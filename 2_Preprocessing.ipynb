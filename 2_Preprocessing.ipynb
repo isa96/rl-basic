{
  "cells": [
    {
      "cell_type": "code",
      "execution_count": 3,
      "metadata": {
        "colab": {
          "base_uri": "https://localhost:8080/"
        },
        "id": "hbM4vunT2bDP",
        "outputId": "4eccce16-b3ac-4cea-9a4a-13f4e12880a3"
      },
      "outputs": [
        {
          "name": "stdout",
          "output_type": "stream",
          "text": [
            "       datadate   tic        adjcp    open    high     low      volume\n",
            "0      20090105  ADRO   289.563416   520.0   520.0   485.0         3.0\n",
            "1      20090106  ADRO   283.994965   520.0   540.0   510.0  11781500.0\n",
            "2      20090107  ADRO   289.563416   520.0   550.0   510.0  27035500.0\n",
            "3      20090108  ADRO   278.426392   500.0   510.0   500.0   2130000.0\n",
            "4      20090109  ADRO   283.994965   510.0   520.0   510.0   1698000.0\n",
            "...         ...   ...          ...     ...     ...     ...         ...\n",
            "88447  20211224  WIKA  1075.000000  1060.0  1090.0  1055.0  13753500.0\n",
            "88448  20211227  WIKA  1125.000000  1080.0  1140.0  1080.0  20641600.0\n",
            "88449  20211228  WIKA  1130.000000  1135.0  1150.0  1110.0  22979500.0\n",
            "88450  20211229  WIKA  1130.000000  1130.0  1135.0  1105.0   8582200.0\n",
            "88451  20211230  WIKA  1105.000000  1130.0  1140.0  1105.0  10166400.0\n",
            "\n",
            "[88452 rows x 7 columns]\n"
          ]
        }
      ],
      "source": [
        "JIIStocksDataset.drop('Unnamed: 0', inplace=True, axis=1)\n",
        "print(JIIStocksDataset)"
      ]
    },
    {
      "cell_type": "code",
      "execution_count": 4,
      "metadata": {
        "colab": {
          "base_uri": "https://localhost:8080/"
        },
        "id": "eplWdBYz2LPh",
        "outputId": "e7453f96-e0ce-4787-f961-fcf58375f6e8"
      },
      "outputs": [
        {
          "name": "stdout",
          "output_type": "stream",
          "text": [
            "<class 'pandas.core.frame.DataFrame'>\n",
            "RangeIndex: 88452 entries, 0 to 88451\n",
            "Data columns (total 7 columns):\n",
            " #   Column    Non-Null Count  Dtype  \n",
            "---  ------    --------------  -----  \n",
            " 0   datadate  88452 non-null  int64  \n",
            " 1   tic       88452 non-null  object \n",
            " 2   adjcp     88450 non-null  float64\n",
            " 3   open      88450 non-null  float64\n",
            " 4   high      88450 non-null  float64\n",
            " 5   low       88450 non-null  float64\n",
            " 6   volume    88450 non-null  float64\n",
            "dtypes: float64(5), int64(1), object(1)\n",
            "memory usage: 4.7+ MB\n"
          ]
        }
      ],
      "source": [
        "JIIStocksDataset.info()"
      ]
    },
    {
      "cell_type": "code",
      "execution_count": 5,
      "metadata": {
        "id": "LEMFadSIkG4A"
      },
      "outputs": [],
      "source": [
        "JIIStocksDataset['datadate'] = JIIStocksDataset['datadate'].astype(object)"
      ]
    },
    {
      "cell_type": "code",
      "execution_count": 6,
      "metadata": {
        "colab": {
          "base_uri": "https://localhost:8080/"
        },
        "id": "HvY0NsjAlbKA",
        "outputId": "45a72d9d-4db4-45b9-97a9-22d6719914f0"
      },
      "outputs": [
        {
          "name": "stdout",
          "output_type": "stream",
          "text": [
            "<class 'pandas.core.frame.DataFrame'>\n",
            "RangeIndex: 88452 entries, 0 to 88451\n",
            "Data columns (total 7 columns):\n",
            " #   Column    Non-Null Count  Dtype  \n",
            "---  ------    --------------  -----  \n",
            " 0   datadate  88452 non-null  object \n",
            " 1   tic       88452 non-null  object \n",
            " 2   adjcp     88450 non-null  float64\n",
            " 3   open      88450 non-null  float64\n",
            " 4   high      88450 non-null  float64\n",
            " 5   low       88450 non-null  float64\n",
            " 6   volume    88450 non-null  float64\n",
            "dtypes: float64(5), object(2)\n",
            "memory usage: 4.7+ MB\n"
          ]
        }
      ],
      "source": [
        "JIIStocksDataset.info()"
      ]
    },
    {
      "cell_type": "code",
      "execution_count": 7,
      "metadata": {
        "colab": {
          "base_uri": "https://localhost:8080/",
          "height": 112
        },
        "id": "Rit9BYkdi7CU",
        "outputId": "36d89904-1d9d-44b8-d0df-837f18733b95"
      },
      "outputs": [
        {
          "data": {
            "text/html": [
              "\n",
              "  <div id=\"df-29444947-6039-4cfe-8d64-828ad0e0615f\">\n",
              "    <div class=\"colab-df-container\">\n",
              "      <div>\n",
              "<style scoped>\n",
              "    .dataframe tbody tr th:only-of-type {\n",
              "        vertical-align: middle;\n",
              "    }\n",
              "\n",
              "    .dataframe tbody tr th {\n",
              "        vertical-align: top;\n",
              "    }\n",
              "\n",
              "    .dataframe thead th {\n",
              "        text-align: right;\n",
              "    }\n",
              "</style>\n",
              "<table border=\"1\" class=\"dataframe\">\n",
              "  <thead>\n",
              "    <tr style=\"text-align: right;\">\n",
              "      <th></th>\n",
              "      <th>datadate</th>\n",
              "      <th>tic</th>\n",
              "      <th>adjcp</th>\n",
              "      <th>open</th>\n",
              "      <th>high</th>\n",
              "      <th>low</th>\n",
              "      <th>volume</th>\n",
              "    </tr>\n",
              "  </thead>\n",
              "  <tbody>\n",
              "    <tr>\n",
              "      <th>15208</th>\n",
              "      <td>20150501</td>\n",
              "      <td>EMTK</td>\n",
              "      <td>NaN</td>\n",
              "      <td>NaN</td>\n",
              "      <td>NaN</td>\n",
              "      <td>NaN</td>\n",
              "      <td>NaN</td>\n",
              "    </tr>\n",
              "    <tr>\n",
              "      <th>41665</th>\n",
              "      <td>20201209</td>\n",
              "      <td>INTP</td>\n",
              "      <td>NaN</td>\n",
              "      <td>NaN</td>\n",
              "      <td>NaN</td>\n",
              "      <td>NaN</td>\n",
              "      <td>NaN</td>\n",
              "    </tr>\n",
              "  </tbody>\n",
              "</table>\n",
              "</div>\n",
              "      <button class=\"colab-df-convert\" onclick=\"convertToInteractive('df-29444947-6039-4cfe-8d64-828ad0e0615f')\"\n",
              "              title=\"Convert this dataframe to an interactive table.\"\n",
              "              style=\"display:none;\">\n",
              "        \n",
              "  <svg xmlns=\"http://www.w3.org/2000/svg\" height=\"24px\"viewBox=\"0 0 24 24\"\n",
              "       width=\"24px\">\n",
              "    <path d=\"M0 0h24v24H0V0z\" fill=\"none\"/>\n",
              "    <path d=\"M18.56 5.44l.94 2.06.94-2.06 2.06-.94-2.06-.94-.94-2.06-.94 2.06-2.06.94zm-11 1L8.5 8.5l.94-2.06 2.06-.94-2.06-.94L8.5 2.5l-.94 2.06-2.06.94zm10 10l.94 2.06.94-2.06 2.06-.94-2.06-.94-.94-2.06-.94 2.06-2.06.94z\"/><path d=\"M17.41 7.96l-1.37-1.37c-.4-.4-.92-.59-1.43-.59-.52 0-1.04.2-1.43.59L10.3 9.45l-7.72 7.72c-.78.78-.78 2.05 0 2.83L4 21.41c.39.39.9.59 1.41.59.51 0 1.02-.2 1.41-.59l7.78-7.78 2.81-2.81c.8-.78.8-2.07 0-2.86zM5.41 20L4 18.59l7.72-7.72 1.47 1.35L5.41 20z\"/>\n",
              "  </svg>\n",
              "      </button>\n",
              "      \n",
              "  <style>\n",
              "    .colab-df-container {\n",
              "      display:flex;\n",
              "      flex-wrap:wrap;\n",
              "      gap: 12px;\n",
              "    }\n",
              "\n",
              "    .colab-df-convert {\n",
              "      background-color: #E8F0FE;\n",
              "      border: none;\n",
              "      border-radius: 50%;\n",
              "      cursor: pointer;\n",
              "      display: none;\n",
              "      fill: #1967D2;\n",
              "      height: 32px;\n",
              "      padding: 0 0 0 0;\n",
              "      width: 32px;\n",
              "    }\n",
              "\n",
              "    .colab-df-convert:hover {\n",
              "      background-color: #E2EBFA;\n",
              "      box-shadow: 0px 1px 2px rgba(60, 64, 67, 0.3), 0px 1px 3px 1px rgba(60, 64, 67, 0.15);\n",
              "      fill: #174EA6;\n",
              "    }\n",
              "\n",
              "    [theme=dark] .colab-df-convert {\n",
              "      background-color: #3B4455;\n",
              "      fill: #D2E3FC;\n",
              "    }\n",
              "\n",
              "    [theme=dark] .colab-df-convert:hover {\n",
              "      background-color: #434B5C;\n",
              "      box-shadow: 0px 1px 3px 1px rgba(0, 0, 0, 0.15);\n",
              "      filter: drop-shadow(0px 1px 2px rgba(0, 0, 0, 0.3));\n",
              "      fill: #FFFFFF;\n",
              "    }\n",
              "  </style>\n",
              "\n",
              "      <script>\n",
              "        const buttonEl =\n",
              "          document.querySelector('#df-29444947-6039-4cfe-8d64-828ad0e0615f button.colab-df-convert');\n",
              "        buttonEl.style.display =\n",
              "          google.colab.kernel.accessAllowed ? 'block' : 'none';\n",
              "\n",
              "        async function convertToInteractive(key) {\n",
              "          const element = document.querySelector('#df-29444947-6039-4cfe-8d64-828ad0e0615f');\n",
              "          const dataTable =\n",
              "            await google.colab.kernel.invokeFunction('convertToInteractive',\n",
              "                                                     [key], {});\n",
              "          if (!dataTable) return;\n",
              "\n",
              "          const docLinkHtml = 'Like what you see? Visit the ' +\n",
              "            '<a target=\"_blank\" href=https://colab.research.google.com/notebooks/data_table.ipynb>data table notebook</a>'\n",
              "            + ' to learn more about interactive tables.';\n",
              "          element.innerHTML = '';\n",
              "          dataTable['output_type'] = 'display_data';\n",
              "          await google.colab.output.renderOutput(dataTable, element);\n",
              "          const docLink = document.createElement('div');\n",
              "          docLink.innerHTML = docLinkHtml;\n",
              "          element.appendChild(docLink);\n",
              "        }\n",
              "      </script>\n",
              "    </div>\n",
              "  </div>\n",
              "  "
            ],
            "text/plain": [
              "       datadate   tic  adjcp  open  high  low  volume\n",
              "15208  20150501  EMTK    NaN   NaN   NaN  NaN     NaN\n",
              "41665  20201209  INTP    NaN   NaN   NaN  NaN     NaN"
            ]
          },
          "execution_count": 7,
          "metadata": {},
          "output_type": "execute_result"
        }
      ],
      "source": [
        "#displaying nan row\n",
        "JIIStocksDataset[JIIStocksDataset['adjcp'].isnull()]"
      ]
    },
    {
      "cell_type": "code",
      "execution_count": 8,
      "metadata": {
        "id": "bmzVgy1BBRy6"
      },
      "outputs": [],
      "source": [
        "# import the KNNimputer class\n",
        "from sklearn.impute import KNNImputer\n",
        "\n",
        "# take numerical features\n",
        "numerical_features = ['adjcp',\t'open',\t'high',\t'low',\t'volume']\n",
        "\n",
        "# create an object for KNNImputer\n",
        "imputer = KNNImputer(n_neighbors=2)\n",
        "JIIStocksDataset_After_imputation = imputer.fit_transform(JIIStocksDataset[numerical_features])"
      ]
    },
    {
      "cell_type": "code",
      "execution_count": 9,
      "metadata": {
        "colab": {
          "base_uri": "https://localhost:8080/"
        },
        "id": "4DCyYspOIRwa",
        "outputId": "7504d4ae-36f9-4913-b9ef-e9c07f600306"
      },
      "outputs": [
        {
          "name": "stdout",
          "output_type": "stream",
          "text": [
            "\n",
            "\n",
            "After performing imputation\n",
            " [[2.89563416e+02 5.20000000e+02 5.20000000e+02 4.85000000e+02\n",
            "  3.00000000e+00]\n",
            " [2.83994965e+02 5.20000000e+02 5.40000000e+02 5.10000000e+02\n",
            "  1.17815000e+07]\n",
            " [2.89563416e+02 5.20000000e+02 5.50000000e+02 5.10000000e+02\n",
            "  2.70355000e+07]\n",
            " ...\n",
            " [1.13000000e+03 1.13500000e+03 1.15000000e+03 1.11000000e+03\n",
            "  2.29795000e+07]\n",
            " [1.13000000e+03 1.13000000e+03 1.13500000e+03 1.10500000e+03\n",
            "  8.58220000e+06]\n",
            " [1.10500000e+03 1.13000000e+03 1.14000000e+03 1.10500000e+03\n",
            "  1.01664000e+07]]\n"
          ]
        }
      ],
      "source": [
        "# print dataset after performing the operation\n",
        "# Note: After transforming the data becomes a numpy array\n",
        "print(\"\\n\\nAfter performing imputation\\n\",JIIStocksDataset_After_imputation)"
      ]
    },
    {
      "cell_type": "code",
      "execution_count": 10,
      "metadata": {
        "colab": {
          "base_uri": "https://localhost:8080/"
        },
        "id": "8fkqTJEBHYZX",
        "outputId": "8ccaafb3-d780-4bae-9dc0-27c429f04705"
      },
      "outputs": [
        {
          "name": "stdout",
          "output_type": "stream",
          "text": [
            "             adjcp    open    high     low      volume\n",
            "0       289.563416   520.0   520.0   485.0         3.0\n",
            "1       283.994965   520.0   540.0   510.0  11781500.0\n",
            "2       289.563416   520.0   550.0   510.0  27035500.0\n",
            "3       278.426392   500.0   510.0   500.0   2130000.0\n",
            "4       283.994965   510.0   520.0   510.0   1698000.0\n",
            "...            ...     ...     ...     ...         ...\n",
            "88447  1075.000000  1060.0  1090.0  1055.0  13753500.0\n",
            "88448  1125.000000  1080.0  1140.0  1080.0  20641600.0\n",
            "88449  1130.000000  1135.0  1150.0  1110.0  22979500.0\n",
            "88450  1130.000000  1130.0  1135.0  1105.0   8582200.0\n",
            "88451  1105.000000  1130.0  1140.0  1105.0  10166400.0\n",
            "\n",
            "[88452 rows x 5 columns]\n"
          ]
        }
      ],
      "source": [
        "#import numpy array to dataframe\n",
        "\n",
        "import numpy as np\n",
        "\n",
        "JIIStocksDataframe_After_imputation = pd.DataFrame(JIIStocksDataset_After_imputation, columns = ['adjcp',\t'open',\t'high',\t'low',\t'volume'])\n",
        "print(JIIStocksDataframe_After_imputation)"
      ]
    },
    {
      "cell_type": "code",
      "execution_count": 11,
      "metadata": {
        "colab": {
          "base_uri": "https://localhost:8080/",
          "height": 424
        },
        "id": "LNzr4jZ8KBPu",
        "outputId": "dde774a9-4fed-4299-f8ac-4140e65bc012"
      },
      "outputs": [
        {
          "data": {
            "text/html": [
              "\n",
              "  <div id=\"df-d9eb2c68-b89e-40a6-930c-341b5d7e33ce\">\n",
              "    <div class=\"colab-df-container\">\n",
              "      <div>\n",
              "<style scoped>\n",
              "    .dataframe tbody tr th:only-of-type {\n",
              "        vertical-align: middle;\n",
              "    }\n",
              "\n",
              "    .dataframe tbody tr th {\n",
              "        vertical-align: top;\n",
              "    }\n",
              "\n",
              "    .dataframe thead th {\n",
              "        text-align: right;\n",
              "    }\n",
              "</style>\n",
              "<table border=\"1\" class=\"dataframe\">\n",
              "  <thead>\n",
              "    <tr style=\"text-align: right;\">\n",
              "      <th></th>\n",
              "      <th>datadate</th>\n",
              "      <th>tic</th>\n",
              "      <th>adjcp</th>\n",
              "      <th>open</th>\n",
              "      <th>high</th>\n",
              "      <th>low</th>\n",
              "      <th>volume</th>\n",
              "    </tr>\n",
              "  </thead>\n",
              "  <tbody>\n",
              "    <tr>\n",
              "      <th>0</th>\n",
              "      <td>20090105</td>\n",
              "      <td>ADRO</td>\n",
              "      <td>289.563416</td>\n",
              "      <td>520.0</td>\n",
              "      <td>520.0</td>\n",
              "      <td>485.0</td>\n",
              "      <td>3.0</td>\n",
              "    </tr>\n",
              "    <tr>\n",
              "      <th>1</th>\n",
              "      <td>20090106</td>\n",
              "      <td>ADRO</td>\n",
              "      <td>283.994965</td>\n",
              "      <td>520.0</td>\n",
              "      <td>540.0</td>\n",
              "      <td>510.0</td>\n",
              "      <td>11781500.0</td>\n",
              "    </tr>\n",
              "    <tr>\n",
              "      <th>2</th>\n",
              "      <td>20090107</td>\n",
              "      <td>ADRO</td>\n",
              "      <td>289.563416</td>\n",
              "      <td>520.0</td>\n",
              "      <td>550.0</td>\n",
              "      <td>510.0</td>\n",
              "      <td>27035500.0</td>\n",
              "    </tr>\n",
              "    <tr>\n",
              "      <th>3</th>\n",
              "      <td>20090108</td>\n",
              "      <td>ADRO</td>\n",
              "      <td>278.426392</td>\n",
              "      <td>500.0</td>\n",
              "      <td>510.0</td>\n",
              "      <td>500.0</td>\n",
              "      <td>2130000.0</td>\n",
              "    </tr>\n",
              "    <tr>\n",
              "      <th>4</th>\n",
              "      <td>20090109</td>\n",
              "      <td>ADRO</td>\n",
              "      <td>283.994965</td>\n",
              "      <td>510.0</td>\n",
              "      <td>520.0</td>\n",
              "      <td>510.0</td>\n",
              "      <td>1698000.0</td>\n",
              "    </tr>\n",
              "    <tr>\n",
              "      <th>...</th>\n",
              "      <td>...</td>\n",
              "      <td>...</td>\n",
              "      <td>...</td>\n",
              "      <td>...</td>\n",
              "      <td>...</td>\n",
              "      <td>...</td>\n",
              "      <td>...</td>\n",
              "    </tr>\n",
              "    <tr>\n",
              "      <th>88447</th>\n",
              "      <td>20211224</td>\n",
              "      <td>WIKA</td>\n",
              "      <td>1075.000000</td>\n",
              "      <td>1060.0</td>\n",
              "      <td>1090.0</td>\n",
              "      <td>1055.0</td>\n",
              "      <td>13753500.0</td>\n",
              "    </tr>\n",
              "    <tr>\n",
              "      <th>88448</th>\n",
              "      <td>20211227</td>\n",
              "      <td>WIKA</td>\n",
              "      <td>1125.000000</td>\n",
              "      <td>1080.0</td>\n",
              "      <td>1140.0</td>\n",
              "      <td>1080.0</td>\n",
              "      <td>20641600.0</td>\n",
              "    </tr>\n",
              "    <tr>\n",
              "      <th>88449</th>\n",
              "      <td>20211228</td>\n",
              "      <td>WIKA</td>\n",
              "      <td>1130.000000</td>\n",
              "      <td>1135.0</td>\n",
              "      <td>1150.0</td>\n",
              "      <td>1110.0</td>\n",
              "      <td>22979500.0</td>\n",
              "    </tr>\n",
              "    <tr>\n",
              "      <th>88450</th>\n",
              "      <td>20211229</td>\n",
              "      <td>WIKA</td>\n",
              "      <td>1130.000000</td>\n",
              "      <td>1130.0</td>\n",
              "      <td>1135.0</td>\n",
              "      <td>1105.0</td>\n",
              "      <td>8582200.0</td>\n",
              "    </tr>\n",
              "    <tr>\n",
              "      <th>88451</th>\n",
              "      <td>20211230</td>\n",
              "      <td>WIKA</td>\n",
              "      <td>1105.000000</td>\n",
              "      <td>1130.0</td>\n",
              "      <td>1140.0</td>\n",
              "      <td>1105.0</td>\n",
              "      <td>10166400.0</td>\n",
              "    </tr>\n",
              "  </tbody>\n",
              "</table>\n",
              "<p>88452 rows × 7 columns</p>\n",
              "</div>\n",
              "      <button class=\"colab-df-convert\" onclick=\"convertToInteractive('df-d9eb2c68-b89e-40a6-930c-341b5d7e33ce')\"\n",
              "              title=\"Convert this dataframe to an interactive table.\"\n",
              "              style=\"display:none;\">\n",
              "        \n",
              "  <svg xmlns=\"http://www.w3.org/2000/svg\" height=\"24px\"viewBox=\"0 0 24 24\"\n",
              "       width=\"24px\">\n",
              "    <path d=\"M0 0h24v24H0V0z\" fill=\"none\"/>\n",
              "    <path d=\"M18.56 5.44l.94 2.06.94-2.06 2.06-.94-2.06-.94-.94-2.06-.94 2.06-2.06.94zm-11 1L8.5 8.5l.94-2.06 2.06-.94-2.06-.94L8.5 2.5l-.94 2.06-2.06.94zm10 10l.94 2.06.94-2.06 2.06-.94-2.06-.94-.94-2.06-.94 2.06-2.06.94z\"/><path d=\"M17.41 7.96l-1.37-1.37c-.4-.4-.92-.59-1.43-.59-.52 0-1.04.2-1.43.59L10.3 9.45l-7.72 7.72c-.78.78-.78 2.05 0 2.83L4 21.41c.39.39.9.59 1.41.59.51 0 1.02-.2 1.41-.59l7.78-7.78 2.81-2.81c.8-.78.8-2.07 0-2.86zM5.41 20L4 18.59l7.72-7.72 1.47 1.35L5.41 20z\"/>\n",
              "  </svg>\n",
              "      </button>\n",
              "      \n",
              "  <style>\n",
              "    .colab-df-container {\n",
              "      display:flex;\n",
              "      flex-wrap:wrap;\n",
              "      gap: 12px;\n",
              "    }\n",
              "\n",
              "    .colab-df-convert {\n",
              "      background-color: #E8F0FE;\n",
              "      border: none;\n",
              "      border-radius: 50%;\n",
              "      cursor: pointer;\n",
              "      display: none;\n",
              "      fill: #1967D2;\n",
              "      height: 32px;\n",
              "      padding: 0 0 0 0;\n",
              "      width: 32px;\n",
              "    }\n",
              "\n",
              "    .colab-df-convert:hover {\n",
              "      background-color: #E2EBFA;\n",
              "      box-shadow: 0px 1px 2px rgba(60, 64, 67, 0.3), 0px 1px 3px 1px rgba(60, 64, 67, 0.15);\n",
              "      fill: #174EA6;\n",
              "    }\n",
              "\n",
              "    [theme=dark] .colab-df-convert {\n",
              "      background-color: #3B4455;\n",
              "      fill: #D2E3FC;\n",
              "    }\n",
              "\n",
              "    [theme=dark] .colab-df-convert:hover {\n",
              "      background-color: #434B5C;\n",
              "      box-shadow: 0px 1px 3px 1px rgba(0, 0, 0, 0.15);\n",
              "      filter: drop-shadow(0px 1px 2px rgba(0, 0, 0, 0.3));\n",
              "      fill: #FFFFFF;\n",
              "    }\n",
              "  </style>\n",
              "\n",
              "      <script>\n",
              "        const buttonEl =\n",
              "          document.querySelector('#df-d9eb2c68-b89e-40a6-930c-341b5d7e33ce button.colab-df-convert');\n",
              "        buttonEl.style.display =\n",
              "          google.colab.kernel.accessAllowed ? 'block' : 'none';\n",
              "\n",
              "        async function convertToInteractive(key) {\n",
              "          const element = document.querySelector('#df-d9eb2c68-b89e-40a6-930c-341b5d7e33ce');\n",
              "          const dataTable =\n",
              "            await google.colab.kernel.invokeFunction('convertToInteractive',\n",
              "                                                     [key], {});\n",
              "          if (!dataTable) return;\n",
              "\n",
              "          const docLinkHtml = 'Like what you see? Visit the ' +\n",
              "            '<a target=\"_blank\" href=https://colab.research.google.com/notebooks/data_table.ipynb>data table notebook</a>'\n",
              "            + ' to learn more about interactive tables.';\n",
              "          element.innerHTML = '';\n",
              "          dataTable['output_type'] = 'display_data';\n",
              "          await google.colab.output.renderOutput(dataTable, element);\n",
              "          const docLink = document.createElement('div');\n",
              "          docLink.innerHTML = docLinkHtml;\n",
              "          element.appendChild(docLink);\n",
              "        }\n",
              "      </script>\n",
              "    </div>\n",
              "  </div>\n",
              "  "
            ],
            "text/plain": [
              "       datadate   tic        adjcp    open    high     low      volume\n",
              "0      20090105  ADRO   289.563416   520.0   520.0   485.0         3.0\n",
              "1      20090106  ADRO   283.994965   520.0   540.0   510.0  11781500.0\n",
              "2      20090107  ADRO   289.563416   520.0   550.0   510.0  27035500.0\n",
              "3      20090108  ADRO   278.426392   500.0   510.0   500.0   2130000.0\n",
              "4      20090109  ADRO   283.994965   510.0   520.0   510.0   1698000.0\n",
              "...         ...   ...          ...     ...     ...     ...         ...\n",
              "88447  20211224  WIKA  1075.000000  1060.0  1090.0  1055.0  13753500.0\n",
              "88448  20211227  WIKA  1125.000000  1080.0  1140.0  1080.0  20641600.0\n",
              "88449  20211228  WIKA  1130.000000  1135.0  1150.0  1110.0  22979500.0\n",
              "88450  20211229  WIKA  1130.000000  1130.0  1135.0  1105.0   8582200.0\n",
              "88451  20211230  WIKA  1105.000000  1130.0  1140.0  1105.0  10166400.0\n",
              "\n",
              "[88452 rows x 7 columns]"
            ]
          },
          "execution_count": 11,
          "metadata": {},
          "output_type": "execute_result"
        }
      ],
      "source": [
        "#drop some column of JIIStockDataset \n",
        "JIIStocksDataset = JIIStocksDataset.drop(JIIStocksDataset.columns[[2, 3, 4, 5, 6]], axis=1) \n",
        "\n",
        "#concate the column to make newa dataframe\n",
        "JIIStocksDataframe = pd.concat([JIIStocksDataset, JIIStocksDataframe_After_imputation], axis=1)\n",
        "JIIStocksDataframe"
      ]
    },
    {
      "cell_type": "code",
      "execution_count": 12,
      "metadata": {
        "colab": {
          "base_uri": "https://localhost:8080/"
        },
        "id": "3GiPYMbcL3pz",
        "outputId": "3411d990-8474-4afc-9880-433dee45d9d2"
      },
      "outputs": [
        {
          "name": "stdout",
          "output_type": "stream",
          "text": [
            "<class 'pandas.core.frame.DataFrame'>\n",
            "RangeIndex: 88452 entries, 0 to 88451\n",
            "Data columns (total 7 columns):\n",
            " #   Column    Non-Null Count  Dtype  \n",
            "---  ------    --------------  -----  \n",
            " 0   datadate  88452 non-null  object \n",
            " 1   tic       88452 non-null  object \n",
            " 2   adjcp     88452 non-null  float64\n",
            " 3   open      88452 non-null  float64\n",
            " 4   high      88452 non-null  float64\n",
            " 5   low       88452 non-null  float64\n",
            " 6   volume    88452 non-null  float64\n",
            "dtypes: float64(5), object(2)\n",
            "memory usage: 4.7+ MB\n"
          ]
        }
      ],
      "source": [
        "JIIStocksDataframe.info()"
      ]
    },
    {
      "cell_type": "code",
      "execution_count": 13,
      "metadata": {
        "colab": {
          "base_uri": "https://localhost:8080/"
        },
        "id": "t12Gf_EYhUdT",
        "outputId": "9b6f26fe-b8fd-42c4-ebb5-0df9961da113"
      },
      "outputs": [
        {
          "name": "stdout",
          "output_type": "stream",
          "text": [
            "       datadate   tic        adjcp         open         high          low  \\\n",
            "15208  20150501  EMTK  3876.134308  4965.942895  5037.918734  4888.067626   \n",
            "\n",
            "             volume  \n",
            "15208  2.779047e+07  \n"
          ]
        }
      ],
      "source": [
        "print(JIIStocksDataframe.loc[[15208]])"
      ]
    },
    {
      "cell_type": "code",
      "execution_count": 14,
      "metadata": {
        "colab": {
          "base_uri": "https://localhost:8080/"
        },
        "id": "kJJ-Jn1ahfCz",
        "outputId": "b2a7e530-2445-4c00-d09e-a5966832f1fb"
      },
      "outputs": [
        {
          "name": "stdout",
          "output_type": "stream",
          "text": [
            "       datadate   tic        adjcp         open         high          low  \\\n",
            "41665  20201209  INTP  3876.134308  4965.942895  5037.918734  4888.067626   \n",
            "\n",
            "             volume  \n",
            "41665  2.779047e+07  \n"
          ]
        }
      ],
      "source": [
        "print(JIIStocksDataframe.loc[[41665]])"
      ]
    },
    {
      "cell_type": "code",
      "execution_count": 15,
      "metadata": {
        "id": "6VzQG-mNMNY7"
      },
      "outputs": [],
      "source": [
        "import seaborn as sns"
      ]
    },
    {
      "cell_type": "code",
      "execution_count": 16,
      "metadata": {
        "colab": {
          "base_uri": "https://localhost:8080/",
          "height": 296
        },
        "id": "1sO_HqgjMFtU",
        "outputId": "1d2aa990-92fe-4bec-ffb1-6af0b6b13d68"
      },
      "outputs": [
        {
          "data": {
            "text/plain": [
              "<matplotlib.axes._subplots.AxesSubplot at 0x7f08ab9219d0>"
            ]
          },
          "execution_count": 16,
          "metadata": {},
          "output_type": "execute_result"
        },
        {
          "data": {
            "image/png": "[encoded data removed]",
            "text/plain": [
              "<Figure size 432x288 with 1 Axes>"
            ]
          },
          "metadata": {
            "needs_background": "light"
          },
          "output_type": "display_data"
        }
      ],
      "source": [
        "sns.boxplot(x=JIIStocksDataframe['adjcp'])"
      ]
    },
    {
      "cell_type": "code",
      "execution_count": 17,
      "metadata": {
        "colab": {
          "base_uri": "https://localhost:8080/",
          "height": 296
        },
        "id": "smeV7svxMQK8",
        "outputId": "f2cb9b70-55ae-498a-ab31-8d1c2c809140"
      },
      "outputs": [
        {
          "data": {
            "text/plain": [
              "<matplotlib.axes._subplots.AxesSubplot at 0x7f08ab87c150>"
            ]
          },
          "execution_count": 17,
          "metadata": {},
          "output_type": "execute_result"
        },
        {
          "data": {
            "image/png": "[encoded data removed]",
            "text/plain": [
              "<Figure size 432x288 with 1 Axes>"
            ]
          },
          "metadata": {
            "needs_background": "light"
          },
          "output_type": "display_data"
        }
      ],
      "source": [
        "sns.boxplot(x=JIIStocksDataframe['open'])"
      ]
    },
    {
      "cell_type": "code",
      "execution_count": 18,
      "metadata": {
        "colab": {
          "base_uri": "https://localhost:8080/",
          "height": 296
        },
        "id": "j_EdaEBoMThY",
        "outputId": "98010c97-429e-466b-c66b-63a20492bd9e"
      },
      "outputs": [
        {
          "data": {
            "text/plain": [
              "<matplotlib.axes._subplots.AxesSubplot at 0x7f08ab3a3590>"
            ]
          },
          "execution_count": 18,
          "metadata": {},
          "output_type": "execute_result"
        },
        {
          "data": {
            "image/png": "[encoded data removed]",
            "text/plain": [
              "<Figure size 432x288 with 1 Axes>"
            ]
          },
          "metadata": {
            "needs_background": "light"
          },
          "output_type": "display_data"
        }
      ],
      "source": [
        "sns.boxplot(x=JIIStocksDataframe['high'])"
      ]
    },
    {
      "cell_type": "code",
      "execution_count": 19,
      "metadata": {
        "colab": {
          "base_uri": "https://localhost:8080/",
          "height": 296
        },
        "id": "Zx4SI33PMTIN",
        "outputId": "10f6c3d0-6633-4d51-83db-73d56926fcf2"
      },
      "outputs": [
        {
          "data": {
            "text/plain": [
              "<matplotlib.axes._subplots.AxesSubplot at 0x7f08ab31d410>"
            ]
          },
          "execution_count": 19,
          "metadata": {},
          "output_type": "execute_result"
        },
        {
          "data": {
            "image/png": "[encoded data removed]",
            "text/plain": [
              "<Figure size 432x288 with 1 Axes>"
            ]
          },
          "metadata": {
            "needs_background": "light"
          },
          "output_type": "display_data"
        }
      ],
      "source": [
        "sns.boxplot(x=JIIStocksDataframe['low'])"
      ]
    },
    {
      "cell_type": "code",
      "execution_count": 20,
      "metadata": {
        "colab": {
          "base_uri": "https://localhost:8080/",
          "height": 296
        },
        "id": "Jsi6CKDvMS47",
        "outputId": "bef74fe7-7e65-489b-fb7e-9e230d225368"
      },
      "outputs": [
        {
          "data": {
            "text/plain": [
              "<matplotlib.axes._subplots.AxesSubplot at 0x7f08ab28f390>"
            ]
          },
          "execution_count": 20,
          "metadata": {},
          "output_type": "execute_result"
        },
        {
          "data": {
            "image/png": "[encoded data removed]",
            "text/plain": [
              "<Figure size 432x288 with 1 Axes>"
            ]
          },
          "metadata": {
            "needs_background": "light"
          },
          "output_type": "display_data"
        }
      ],
      "source": [
        "sns.boxplot(x=JIIStocksDataframe['volume'])"
      ]
    },
    {
      "cell_type": "code",
      "execution_count": 22,
      "metadata": {
        "colab": {
          "base_uri": "https://localhost:8080/"
        },
        "id": "K39Rs3aY5zL7",
        "outputId": "c55e4aa7-c3ad-4a4a-d44a-0e59e0673370"
      },
      "outputs": [
        {
          "name": "stdout",
          "output_type": "stream",
          "text": [
            "Total of volume value under 1000:  5722\n"
          ]
        }
      ],
      "source": [
        "volumeUnder10000 = (JIIStocksDataframe.volume < 10000).sum()\n",
        "\n",
        "print(\"Total of volume value under 1000: \", volumeUnder10000)"
      ]
    },
    {
      "cell_type": "code",
      "execution_count": 23,
      "metadata": {
        "colab": {
          "base_uri": "https://localhost:8080/"
        },
        "id": "d3E-DlY66N9h",
        "outputId": "b7a655a3-0016-41c6-be58-336712a9ca23"
      },
      "outputs": [
        {
          "data": {
            "text/plain": [
              "(82730, 7)"
            ]
          },
          "execution_count": 23,
          "metadata": {},
          "output_type": "execute_result"
        }
      ],
      "source": [
        "#Drop volume value under 10000\n",
        "JIIStocksDataframe = JIIStocksDataframe.loc[(JIIStocksDataframe[['volume']]>=10000).all(axis=1)]\n",
        "\n",
        "#check the data size to make sure the rows have been dropped\n",
        "JIIStocksDataframe.shape"
      ]
    },
    {
      "cell_type": "code",
      "execution_count": 24,
      "metadata": {
        "id": "VAVafYmYAsTn"
      },
      "outputs": [],
      "source": [
        "import random\n",
        "from scipy.stats.mstats import winsorize\n",
        "import matplotlib.pyplot as plt"
      ]
    },
    {
      "cell_type": "code",
      "execution_count": 25,
      "metadata": {
        "id": "bIDbjndoDkjI"
      },
      "outputs": [],
      "source": [
        "numerical_features = ['adjcp', 'open', 'high', 'low', 'volume']"
      ]
    },
    {
      "cell_type": "code",
      "execution_count": 26,
      "metadata": {
        "colab": {
          "base_uri": "https://localhost:8080/",
          "height": 281
        },
        "id": "C8StGSB5BtsG",
        "outputId": "241b1f94-913d-465c-8060-7c464b480d27"
      },
      "outputs": [
        {
          "data": {
            "image/png": "[encoded data removed]",
            "text/plain": [
              "<Figure size 432x288 with 1 Axes>"
            ]
          },
          "metadata": {
            "needs_background": "light"
          },
          "output_type": "display_data"
        }
      ],
      "source": [
        "WinsorizedArray = winsorize(JIIStocksDataframe[numerical_features],(0.05,0.05))\n",
        "  \n",
        "plt.boxplot(WinsorizedArray)\n",
        "plt.title('Winsorized array of adjcp')\n",
        "plt.show()"
      ]
    },
    {
      "cell_type": "code",
      "execution_count": 27,
      "metadata": {
        "id": "aW0ojnKPEdrN"
      },
      "outputs": [],
      "source": [
        "JIIStocksDataframe = pd.DataFrame(WinsorizedArray, columns = ['adjcp',\t'open',\t'high',\t'low',\t'volume'])"
      ]
    },
    {
      "cell_type": "code",
      "execution_count": null,
      "metadata": {
        "id": "dWyiCL7cfI_j"
      },
      "outputs": [],
      "source": [
        "#Q1 = JIIStocksDataframe.quantile(0.25)\n",
        "#Q3 = JIIStocksDataframe.quantile(0.75)\n",
        "#IQR=Q3-Q1\n",
        "#JIIStocksDataframe=JIIStocksDataframe[~((JIIStocksDataframe<(Q1-1.5*IQR))|(JIIStocksDataframe>(Q3+1.5*IQR))).any(axis=1)]\n",
        " \n",
        "# Cek ukuran dataset setelah kita drop outliers\n",
        "#JIIStocksDataframe.shape"
      ]
    },
    {
      "cell_type": "code",
      "execution_count": 28,
      "metadata": {
        "colab": {
          "base_uri": "https://localhost:8080/",
          "height": 296
        },
        "id": "GoOXplrbh-mD",
        "outputId": "a45e77fe-49c9-4701-ae63-e5eb41bb12cd"
      },
      "outputs": [
        {
          "data": {
            "text/plain": [
              "<matplotlib.axes._subplots.AxesSubplot at 0x7f08ab09f150>"
            ]
          },
          "execution_count": 28,
          "metadata": {},
          "output_type": "execute_result"
        },
        {
          "data": {
            "image/png": "[encoded data removed]",
            "text/plain": [
              "<Figure size 432x288 with 1 Axes>"
            ]
          },
          "metadata": {
            "needs_background": "light"
          },
          "output_type": "display_data"
        }
      ],
      "source": [
        "sns.boxplot(x=JIIStocksDataframe['volume'])"
      ]
    },
    {
      "cell_type": "code",
      "execution_count": 29,
      "metadata": {
        "colab": {
          "base_uri": "https://localhost:8080/",
          "height": 206
        },
        "id": "3oUQXnfbCRYB",
        "outputId": "a08c4a42-bc59-498e-9c6d-bc4dfcb9069d"
      },
      "outputs": [
        {
          "data": {
            "text/html": [
              "\n",
              "  <div id=\"df-ac08020a-ca03-4c8d-848e-5730a871e6ac\">\n",
              "    <div class=\"colab-df-container\">\n",
              "      <div>\n",
              "<style scoped>\n",
              "    .dataframe tbody tr th:only-of-type {\n",
              "        vertical-align: middle;\n",
              "    }\n",
              "\n",
              "    .dataframe tbody tr th {\n",
              "        vertical-align: top;\n",
              "    }\n",
              "\n",
              "    .dataframe thead th {\n",
              "        text-align: right;\n",
              "    }\n",
              "</style>\n",
              "<table border=\"1\" class=\"dataframe\">\n",
              "  <thead>\n",
              "    <tr style=\"text-align: right;\">\n",
              "      <th></th>\n",
              "      <th>adjcp</th>\n",
              "      <th>open</th>\n",
              "      <th>high</th>\n",
              "      <th>low</th>\n",
              "      <th>volume</th>\n",
              "    </tr>\n",
              "  </thead>\n",
              "  <tbody>\n",
              "    <tr>\n",
              "      <th>0</th>\n",
              "      <td>-0.779477</td>\n",
              "      <td>-0.654285</td>\n",
              "      <td>-0.653290</td>\n",
              "      <td>-0.653731</td>\n",
              "      <td>-0.172582</td>\n",
              "    </tr>\n",
              "    <tr>\n",
              "      <th>1</th>\n",
              "      <td>-0.779477</td>\n",
              "      <td>-0.654285</td>\n",
              "      <td>-0.651880</td>\n",
              "      <td>-0.653731</td>\n",
              "      <td>1.211143</td>\n",
              "    </tr>\n",
              "    <tr>\n",
              "      <th>2</th>\n",
              "      <td>-0.779477</td>\n",
              "      <td>-0.657143</td>\n",
              "      <td>-0.657520</td>\n",
              "      <td>-0.655182</td>\n",
              "      <td>-1.048091</td>\n",
              "    </tr>\n",
              "    <tr>\n",
              "      <th>3</th>\n",
              "      <td>-0.779477</td>\n",
              "      <td>-0.655714</td>\n",
              "      <td>-0.656110</td>\n",
              "      <td>-0.653731</td>\n",
              "      <td>-1.087279</td>\n",
              "    </tr>\n",
              "    <tr>\n",
              "      <th>4</th>\n",
              "      <td>-0.761766</td>\n",
              "      <td>-0.631418</td>\n",
              "      <td>-0.623683</td>\n",
              "      <td>-0.631969</td>\n",
              "      <td>1.411668</td>\n",
              "    </tr>\n",
              "  </tbody>\n",
              "</table>\n",
              "</div>\n",
              "      <button class=\"colab-df-convert\" onclick=\"convertToInteractive('df-ac08020a-ca03-4c8d-848e-5730a871e6ac')\"\n",
              "              title=\"Convert this dataframe to an interactive table.\"\n",
              "              style=\"display:none;\">\n",
              "        \n",
              "  <svg xmlns=\"http://www.w3.org/2000/svg\" height=\"24px\"viewBox=\"0 0 24 24\"\n",
              "       width=\"24px\">\n",
              "    <path d=\"M0 0h24v24H0V0z\" fill=\"none\"/>\n",
              "    <path d=\"M18.56 5.44l.94 2.06.94-2.06 2.06-.94-2.06-.94-.94-2.06-.94 2.06-2.06.94zm-11 1L8.5 8.5l.94-2.06 2.06-.94-2.06-.94L8.5 2.5l-.94 2.06-2.06.94zm10 10l.94 2.06.94-2.06 2.06-.94-2.06-.94-.94-2.06-.94 2.06-2.06.94z\"/><path d=\"M17.41 7.96l-1.37-1.37c-.4-.4-.92-.59-1.43-.59-.52 0-1.04.2-1.43.59L10.3 9.45l-7.72 7.72c-.78.78-.78 2.05 0 2.83L4 21.41c.39.39.9.59 1.41.59.51 0 1.02-.2 1.41-.59l7.78-7.78 2.81-2.81c.8-.78.8-2.07 0-2.86zM5.41 20L4 18.59l7.72-7.72 1.47 1.35L5.41 20z\"/>\n",
              "  </svg>\n",
              "      </button>\n",
              "      \n",
              "  <style>\n",
              "    .colab-df-container {\n",
              "      display:flex;\n",
              "      flex-wrap:wrap;\n",
              "      gap: 12px;\n",
              "    }\n",
              "\n",
              "    .colab-df-convert {\n",
              "      background-color: #E8F0FE;\n",
              "      border: none;\n",
              "      border-radius: 50%;\n",
              "      cursor: pointer;\n",
              "      display: none;\n",
              "      fill: #1967D2;\n",
              "      height: 32px;\n",
              "      padding: 0 0 0 0;\n",
              "      width: 32px;\n",
              "    }\n",
              "\n",
              "    .colab-df-convert:hover {\n",
              "      background-color: #E2EBFA;\n",
              "      box-shadow: 0px 1px 2px rgba(60, 64, 67, 0.3), 0px 1px 3px 1px rgba(60, 64, 67, 0.15);\n",
              "      fill: #174EA6;\n",
              "    }\n",
              "\n",
              "    [theme=dark] .colab-df-convert {\n",
              "      background-color: #3B4455;\n",
              "      fill: #D2E3FC;\n",
              "    }\n",
              "\n",
              "    [theme=dark] .colab-df-convert:hover {\n",
              "      background-color: #434B5C;\n",
              "      box-shadow: 0px 1px 3px 1px rgba(0, 0, 0, 0.15);\n",
              "      filter: drop-shadow(0px 1px 2px rgba(0, 0, 0, 0.3));\n",
              "      fill: #FFFFFF;\n",
              "    }\n",
              "  </style>\n",
              "\n",
              "      <script>\n",
              "        const buttonEl =\n",
              "          document.querySelector('#df-ac08020a-ca03-4c8d-848e-5730a871e6ac button.colab-df-convert');\n",
              "        buttonEl.style.display =\n",
              "          google.colab.kernel.accessAllowed ? 'block' : 'none';\n",
              "\n",
              "        async function convertToInteractive(key) {\n",
              "          const element = document.querySelector('#df-ac08020a-ca03-4c8d-848e-5730a871e6ac');\n",
              "          const dataTable =\n",
              "            await google.colab.kernel.invokeFunction('convertToInteractive',\n",
              "                                                     [key], {});\n",
              "          if (!dataTable) return;\n",
              "\n",
              "          const docLinkHtml = 'Like what you see? Visit the ' +\n",
              "            '<a target=\"_blank\" href=https://colab.research.google.com/notebooks/data_table.ipynb>data table notebook</a>'\n",
              "            + ' to learn more about interactive tables.';\n",
              "          element.innerHTML = '';\n",
              "          dataTable['output_type'] = 'display_data';\n",
              "          await google.colab.output.renderOutput(dataTable, element);\n",
              "          const docLink = document.createElement('div');\n",
              "          docLink.innerHTML = docLinkHtml;\n",
              "          element.appendChild(docLink);\n",
              "        }\n",
              "      </script>\n",
              "    </div>\n",
              "  </div>\n",
              "  "
            ],
            "text/plain": [
              "      adjcp      open      high       low    volume\n",
              "0 -0.779477 -0.654285 -0.653290 -0.653731 -0.172582\n",
              "1 -0.779477 -0.654285 -0.651880 -0.653731  1.211143\n",
              "2 -0.779477 -0.657143 -0.657520 -0.655182 -1.048091\n",
              "3 -0.779477 -0.655714 -0.656110 -0.653731 -1.087279\n",
              "4 -0.761766 -0.631418 -0.623683 -0.631969  1.411668"
            ]
          },
          "execution_count": 29,
          "metadata": {},
          "output_type": "execute_result"
        }
      ],
      "source": [
        "#Standardization with StandardScaler\n",
        "from sklearn.preprocessing import StandardScaler\n",
        "\n",
        "scaler = StandardScaler()\n",
        "scaler.fit(JIIStocksDataframe[numerical_features])\n",
        "JIIStocksDataframe[numerical_features] = scaler.transform(JIIStocksDataframe.loc[:, numerical_features])\n",
        "JIIStocksDataframe[numerical_features].head()"
      ]
    },
    {
      "cell_type": "code",
      "execution_count": 30,
      "metadata": {
        "colab": {
          "base_uri": "https://localhost:8080/",
          "height": 300
        },
        "id": "MA8MHq3cE6qo",
        "outputId": "7d8fdcd1-8cf1-4727-b25a-e00847ff0b4f"
      },
      "outputs": [
        {
          "data": {
            "text/html": [
              "\n",
              "  <div id=\"df-a2ce4c66-1fa6-4df3-844d-c304740f4b6a\">\n",
              "    <div class=\"colab-df-container\">\n",
              "      <div>\n",
              "<style scoped>\n",
              "    .dataframe tbody tr th:only-of-type {\n",
              "        vertical-align: middle;\n",
              "    }\n",
              "\n",
              "    .dataframe tbody tr th {\n",
              "        vertical-align: top;\n",
              "    }\n",
              "\n",
              "    .dataframe thead th {\n",
              "        text-align: right;\n",
              "    }\n",
              "</style>\n",
              "<table border=\"1\" class=\"dataframe\">\n",
              "  <thead>\n",
              "    <tr style=\"text-align: right;\">\n",
              "      <th></th>\n",
              "      <th>adjcp</th>\n",
              "      <th>open</th>\n",
              "      <th>high</th>\n",
              "      <th>low</th>\n",
              "      <th>volume</th>\n",
              "    </tr>\n",
              "  </thead>\n",
              "  <tbody>\n",
              "    <tr>\n",
              "      <th>count</th>\n",
              "      <td>82730.0000</td>\n",
              "      <td>82730.0000</td>\n",
              "      <td>82730.0000</td>\n",
              "      <td>82730.0000</td>\n",
              "      <td>82730.0000</td>\n",
              "    </tr>\n",
              "    <tr>\n",
              "      <th>mean</th>\n",
              "      <td>0.0000</td>\n",
              "      <td>0.0000</td>\n",
              "      <td>0.0000</td>\n",
              "      <td>-0.0000</td>\n",
              "      <td>0.0000</td>\n",
              "    </tr>\n",
              "    <tr>\n",
              "      <th>std</th>\n",
              "      <td>1.0000</td>\n",
              "      <td>1.0000</td>\n",
              "      <td>1.0000</td>\n",
              "      <td>1.0000</td>\n",
              "      <td>1.0000</td>\n",
              "    </tr>\n",
              "    <tr>\n",
              "      <th>min</th>\n",
              "      <td>-0.7795</td>\n",
              "      <td>-0.6864</td>\n",
              "      <td>-0.6878</td>\n",
              "      <td>-0.6849</td>\n",
              "      <td>-1.2404</td>\n",
              "    </tr>\n",
              "    <tr>\n",
              "      <th>25%</th>\n",
              "      <td>-0.6413</td>\n",
              "      <td>-0.5761</td>\n",
              "      <td>-0.5757</td>\n",
              "      <td>-0.5761</td>\n",
              "      <td>-0.9038</td>\n",
              "    </tr>\n",
              "    <tr>\n",
              "      <th>50%</th>\n",
              "      <td>-0.4114</td>\n",
              "      <td>-0.3942</td>\n",
              "      <td>-0.3939</td>\n",
              "      <td>-0.3955</td>\n",
              "      <td>-0.3386</td>\n",
              "    </tr>\n",
              "    <tr>\n",
              "      <th>75%</th>\n",
              "      <td>0.2560</td>\n",
              "      <td>0.1289</td>\n",
              "      <td>0.1306</td>\n",
              "      <td>0.1282</td>\n",
              "      <td>1.4115</td>\n",
              "    </tr>\n",
              "    <tr>\n",
              "      <th>max</th>\n",
              "      <td>6.4033</td>\n",
              "      <td>7.3892</td>\n",
              "      <td>7.4408</td>\n",
              "      <td>7.2951</td>\n",
              "      <td>1.4117</td>\n",
              "    </tr>\n",
              "  </tbody>\n",
              "</table>\n",
              "</div>\n",
              "      <button class=\"colab-df-convert\" onclick=\"convertToInteractive('df-a2ce4c66-1fa6-4df3-844d-c304740f4b6a')\"\n",
              "              title=\"Convert this dataframe to an interactive table.\"\n",
              "              style=\"display:none;\">\n",
              "        \n",
              "  <svg xmlns=\"http://www.w3.org/2000/svg\" height=\"24px\"viewBox=\"0 0 24 24\"\n",
              "       width=\"24px\">\n",
              "    <path d=\"M0 0h24v24H0V0z\" fill=\"none\"/>\n",
              "    <path d=\"M18.56 5.44l.94 2.06.94-2.06 2.06-.94-2.06-.94-.94-2.06-.94 2.06-2.06.94zm-11 1L8.5 8.5l.94-2.06 2.06-.94-2.06-.94L8.5 2.5l-.94 2.06-2.06.94zm10 10l.94 2.06.94-2.06 2.06-.94-2.06-.94-.94-2.06-.94 2.06-2.06.94z\"/><path d=\"M17.41 7.96l-1.37-1.37c-.4-.4-.92-.59-1.43-.59-.52 0-1.04.2-1.43.59L10.3 9.45l-7.72 7.72c-.78.78-.78 2.05 0 2.83L4 21.41c.39.39.9.59 1.41.59.51 0 1.02-.2 1.41-.59l7.78-7.78 2.81-2.81c.8-.78.8-2.07 0-2.86zM5.41 20L4 18.59l7.72-7.72 1.47 1.35L5.41 20z\"/>\n",
              "  </svg>\n",
              "      </button>\n",
              "      \n",
              "  <style>\n",
              "    .colab-df-container {\n",
              "      display:flex;\n",
              "      flex-wrap:wrap;\n",
              "      gap: 12px;\n",
              "    }\n",
              "\n",
              "    .colab-df-convert {\n",
              "      background-color: #E8F0FE;\n",
              "      border: none;\n",
              "      border-radius: 50%;\n",
              "      cursor: pointer;\n",
              "      display: none;\n",
              "      fill: #1967D2;\n",
              "      height: 32px;\n",
              "      padding: 0 0 0 0;\n",
              "      width: 32px;\n",
              "    }\n",
              "\n",
              "    .colab-df-convert:hover {\n",
              "      background-color: #E2EBFA;\n",
              "      box-shadow: 0px 1px 2px rgba(60, 64, 67, 0.3), 0px 1px 3px 1px rgba(60, 64, 67, 0.15);\n",
              "      fill: #174EA6;\n",
              "    }\n",
              "\n",
              "    [theme=dark] .colab-df-convert {\n",
              "      background-color: #3B4455;\n",
              "      fill: #D2E3FC;\n",
              "    }\n",
              "\n",
              "    [theme=dark] .colab-df-convert:hover {\n",
              "      background-color: #434B5C;\n",
              "      box-shadow: 0px 1px 3px 1px rgba(0, 0, 0, 0.15);\n",
              "      filter: drop-shadow(0px 1px 2px rgba(0, 0, 0, 0.3));\n",
              "      fill: #FFFFFF;\n",
              "    }\n",
              "  </style>\n",
              "\n",
              "      <script>\n",
              "        const buttonEl =\n",
              "          document.querySelector('#df-a2ce4c66-1fa6-4df3-844d-c304740f4b6a button.colab-df-convert');\n",
              "        buttonEl.style.display =\n",
              "          google.colab.kernel.accessAllowed ? 'block' : 'none';\n",
              "\n",
              "        async function convertToInteractive(key) {\n",
              "          const element = document.querySelector('#df-a2ce4c66-1fa6-4df3-844d-c304740f4b6a');\n",
              "          const dataTable =\n",
              "            await google.colab.kernel.invokeFunction('convertToInteractive',\n",
              "                                                     [key], {});\n",
              "          if (!dataTable) return;\n",
              "\n",
              "          const docLinkHtml = 'Like what you see? Visit the ' +\n",
              "            '<a target=\"_blank\" href=https://colab.research.google.com/notebooks/data_table.ipynb>data table notebook</a>'\n",
              "            + ' to learn more about interactive tables.';\n",
              "          element.innerHTML = '';\n",
              "          dataTable['output_type'] = 'display_data';\n",
              "          await google.colab.output.renderOutput(dataTable, element);\n",
              "          const docLink = document.createElement('div');\n",
              "          docLink.innerHTML = docLinkHtml;\n",
              "          element.appendChild(docLink);\n",
              "        }\n",
              "      </script>\n",
              "    </div>\n",
              "  </div>\n",
              "  "
            ],
            "text/plain": [
              "            adjcp        open        high         low      volume\n",
              "count  82730.0000  82730.0000  82730.0000  82730.0000  82730.0000\n",
              "mean       0.0000      0.0000      0.0000     -0.0000      0.0000\n",
              "std        1.0000      1.0000      1.0000      1.0000      1.0000\n",
              "min       -0.7795     -0.6864     -0.6878     -0.6849     -1.2404\n",
              "25%       -0.6413     -0.5761     -0.5757     -0.5761     -0.9038\n",
              "50%       -0.4114     -0.3942     -0.3939     -0.3955     -0.3386\n",
              "75%        0.2560      0.1289      0.1306      0.1282      1.4115\n",
              "max        6.4033      7.3892      7.4408      7.2951      1.4117"
            ]
          },
          "execution_count": 30,
          "metadata": {},
          "output_type": "execute_result"
        }
      ],
      "source": [
        "# Standardization changes the mean to 0 and the standard deviation to 1\n",
        "JIIStocksDataframe[numerical_features].describe().round(4)"
      ]
    },
    {
      "cell_type": "code",
      "execution_count": 31,
      "metadata": {
        "colab": {
          "base_uri": "https://localhost:8080/"
        },
        "id": "bA1xKmCiJMV-",
        "outputId": "97437528-46c0-4424-f980-92f074d4041d"
      },
      "outputs": [
        {
          "name": "stdout",
          "output_type": "stream",
          "text": [
            "<class 'pandas.core.frame.DataFrame'>\n",
            "RangeIndex: 82730 entries, 0 to 82729\n",
            "Data columns (total 5 columns):\n",
            " #   Column  Non-Null Count  Dtype  \n",
            "---  ------  --------------  -----  \n",
            " 0   adjcp   82730 non-null  float64\n",
            " 1   open    82730 non-null  float64\n",
            " 2   high    82730 non-null  float64\n",
            " 3   low     82730 non-null  float64\n",
            " 4   volume  82730 non-null  float64\n",
            "dtypes: float64(5)\n",
            "memory usage: 3.2 MB\n"
          ]
        }
      ],
      "source": [
        "JIIStocksDataframe.info()"
      ]
    },
    {
      "cell_type": "code",
      "execution_count": 32,
      "metadata": {
        "id": "BOeidqnYL3Ef"
      },
      "outputs": [],
      "source": [
        "JIIStocksDataset = JIIStocksDataset.to_numpy()"
      ]
    },
    {
      "cell_type": "code",
      "execution_count": 33,
      "metadata": {
        "colab": {
          "base_uri": "https://localhost:8080/"
        },
        "id": "GcLa6zOOMIQO",
        "outputId": "4b9fc255-e5d8-4e47-e100-0474bb54d6a6"
      },
      "outputs": [
        {
          "data": {
            "text/plain": [
              "array([[20090105, 'ADRO'],\n",
              "       [20090106, 'ADRO'],\n",
              "       [20090107, 'ADRO'],\n",
              "       ...,\n",
              "       [20211228, 'WIKA'],\n",
              "       [20211229, 'WIKA'],\n",
              "       [20211230, 'WIKA']], dtype=object)"
            ]
          },
          "execution_count": 33,
          "metadata": {},
          "output_type": "execute_result"
        }
      ],
      "source": [
        "JIIStocksDataset"
      ]
    },
    {
      "cell_type": "code",
      "execution_count": 34,
      "metadata": {
        "id": "mPcsTLuQMUd_"
      },
      "outputs": [],
      "source": [
        "df = pd.DataFrame(JIIStocksDataset, columns = ['datadate','tic'])"
      ]
    },
    {
      "cell_type": "code",
      "execution_count": 37,
      "metadata": {
        "colab": {
          "base_uri": "https://localhost:8080/",
          "height": 424
        },
        "id": "VQ_c-SsSJbiA",
        "outputId": "35440953-1cd0-430a-ed75-915a57b52fc3"
      },
      "outputs": [
        {
          "data": {
            "text/html": [
              "\n",
              "  <div id=\"df-f522cfc5-15f6-4191-9b83-84341d2821bc\">\n",
              "    <div class=\"colab-df-container\">\n",
              "      <div>\n",
              "<style scoped>\n",
              "    .dataframe tbody tr th:only-of-type {\n",
              "        vertical-align: middle;\n",
              "    }\n",
              "\n",
              "    .dataframe tbody tr th {\n",
              "        vertical-align: top;\n",
              "    }\n",
              "\n",
              "    .dataframe thead th {\n",
              "        text-align: right;\n",
              "    }\n",
              "</style>\n",
              "<table border=\"1\" class=\"dataframe\">\n",
              "  <thead>\n",
              "    <tr style=\"text-align: right;\">\n",
              "      <th></th>\n",
              "      <th>datadate</th>\n",
              "      <th>tic</th>\n",
              "      <th>adjcp</th>\n",
              "      <th>open</th>\n",
              "      <th>high</th>\n",
              "      <th>low</th>\n",
              "      <th>volume</th>\n",
              "    </tr>\n",
              "  </thead>\n",
              "  <tbody>\n",
              "    <tr>\n",
              "      <th>0</th>\n",
              "      <td>20090105</td>\n",
              "      <td>ADRO</td>\n",
              "      <td>-0.779477</td>\n",
              "      <td>-0.654285</td>\n",
              "      <td>-0.653290</td>\n",
              "      <td>-0.653731</td>\n",
              "      <td>-0.172582</td>\n",
              "    </tr>\n",
              "    <tr>\n",
              "      <th>1</th>\n",
              "      <td>20090106</td>\n",
              "      <td>ADRO</td>\n",
              "      <td>-0.779477</td>\n",
              "      <td>-0.654285</td>\n",
              "      <td>-0.651880</td>\n",
              "      <td>-0.653731</td>\n",
              "      <td>1.211143</td>\n",
              "    </tr>\n",
              "    <tr>\n",
              "      <th>2</th>\n",
              "      <td>20090107</td>\n",
              "      <td>ADRO</td>\n",
              "      <td>-0.779477</td>\n",
              "      <td>-0.657143</td>\n",
              "      <td>-0.657520</td>\n",
              "      <td>-0.655182</td>\n",
              "      <td>-1.048091</td>\n",
              "    </tr>\n",
              "    <tr>\n",
              "      <th>3</th>\n",
              "      <td>20090108</td>\n",
              "      <td>ADRO</td>\n",
              "      <td>-0.779477</td>\n",
              "      <td>-0.655714</td>\n",
              "      <td>-0.656110</td>\n",
              "      <td>-0.653731</td>\n",
              "      <td>-1.087279</td>\n",
              "    </tr>\n",
              "    <tr>\n",
              "      <th>4</th>\n",
              "      <td>20090109</td>\n",
              "      <td>ADRO</td>\n",
              "      <td>-0.761766</td>\n",
              "      <td>-0.631418</td>\n",
              "      <td>-0.623683</td>\n",
              "      <td>-0.631969</td>\n",
              "      <td>1.411668</td>\n",
              "    </tr>\n",
              "    <tr>\n",
              "      <th>...</th>\n",
              "      <td>...</td>\n",
              "      <td>...</td>\n",
              "      <td>...</td>\n",
              "      <td>...</td>\n",
              "      <td>...</td>\n",
              "      <td>...</td>\n",
              "      <td>...</td>\n",
              "    </tr>\n",
              "    <tr>\n",
              "      <th>88447</th>\n",
              "      <td>20211224</td>\n",
              "      <td>WIKA</td>\n",
              "      <td>NaN</td>\n",
              "      <td>NaN</td>\n",
              "      <td>NaN</td>\n",
              "      <td>NaN</td>\n",
              "      <td>NaN</td>\n",
              "    </tr>\n",
              "    <tr>\n",
              "      <th>88448</th>\n",
              "      <td>20211227</td>\n",
              "      <td>WIKA</td>\n",
              "      <td>NaN</td>\n",
              "      <td>NaN</td>\n",
              "      <td>NaN</td>\n",
              "      <td>NaN</td>\n",
              "      <td>NaN</td>\n",
              "    </tr>\n",
              "    <tr>\n",
              "      <th>88449</th>\n",
              "      <td>20211228</td>\n",
              "      <td>WIKA</td>\n",
              "      <td>NaN</td>\n",
              "      <td>NaN</td>\n",
              "      <td>NaN</td>\n",
              "      <td>NaN</td>\n",
              "      <td>NaN</td>\n",
              "    </tr>\n",
              "    <tr>\n",
              "      <th>88450</th>\n",
              "      <td>20211229</td>\n",
              "      <td>WIKA</td>\n",
              "      <td>NaN</td>\n",
              "      <td>NaN</td>\n",
              "      <td>NaN</td>\n",
              "      <td>NaN</td>\n",
              "      <td>NaN</td>\n",
              "    </tr>\n",
              "    <tr>\n",
              "      <th>88451</th>\n",
              "      <td>20211230</td>\n",
              "      <td>WIKA</td>\n",
              "      <td>NaN</td>\n",
              "      <td>NaN</td>\n",
              "      <td>NaN</td>\n",
              "      <td>NaN</td>\n",
              "      <td>NaN</td>\n",
              "    </tr>\n",
              "  </tbody>\n",
              "</table>\n",
              "<p>88452 rows × 7 columns</p>\n",
              "</div>\n",
              "      <button class=\"colab-df-convert\" onclick=\"convertToInteractive('df-f522cfc5-15f6-4191-9b83-84341d2821bc')\"\n",
              "              title=\"Convert this dataframe to an interactive table.\"\n",
              "              style=\"display:none;\">\n",
              "        \n",
              "  <svg xmlns=\"http://www.w3.org/2000/svg\" height=\"24px\"viewBox=\"0 0 24 24\"\n",
              "       width=\"24px\">\n",
              "    <path d=\"M0 0h24v24H0V0z\" fill=\"none\"/>\n",
              "    <path d=\"M18.56 5.44l.94 2.06.94-2.06 2.06-.94-2.06-.94-.94-2.06-.94 2.06-2.06.94zm-11 1L8.5 8.5l.94-2.06 2.06-.94-2.06-.94L8.5 2.5l-.94 2.06-2.06.94zm10 10l.94 2.06.94-2.06 2.06-.94-2.06-.94-.94-2.06-.94 2.06-2.06.94z\"/><path d=\"M17.41 7.96l-1.37-1.37c-.4-.4-.92-.59-1.43-.59-.52 0-1.04.2-1.43.59L10.3 9.45l-7.72 7.72c-.78.78-.78 2.05 0 2.83L4 21.41c.39.39.9.59 1.41.59.51 0 1.02-.2 1.41-.59l7.78-7.78 2.81-2.81c.8-.78.8-2.07 0-2.86zM5.41 20L4 18.59l7.72-7.72 1.47 1.35L5.41 20z\"/>\n",
              "  </svg>\n",
              "      </button>\n",
              "      \n",
              "  <style>\n",
              "    .colab-df-container {\n",
              "      display:flex;\n",
              "      flex-wrap:wrap;\n",
              "      gap: 12px;\n",
              "    }\n",
              "\n",
              "    .colab-df-convert {\n",
              "      background-color: #E8F0FE;\n",
              "      border: none;\n",
              "      border-radius: 50%;\n",
              "      cursor: pointer;\n",
              "      display: none;\n",
              "      fill: #1967D2;\n",
              "      height: 32px;\n",
              "      padding: 0 0 0 0;\n",
              "      width: 32px;\n",
              "    }\n",
              "\n",
              "    .colab-df-convert:hover {\n",
              "      background-color: #E2EBFA;\n",
              "      box-shadow: 0px 1px 2px rgba(60, 64, 67, 0.3), 0px 1px 3px 1px rgba(60, 64, 67, 0.15);\n",
              "      fill: #174EA6;\n",
              "    }\n",
              "\n",
              "    [theme=dark] .colab-df-convert {\n",
              "      background-color: #3B4455;\n",
              "      fill: #D2E3FC;\n",
              "    }\n",
              "\n",
              "    [theme=dark] .colab-df-convert:hover {\n",
              "      background-color: #434B5C;\n",
              "      box-shadow: 0px 1px 3px 1px rgba(0, 0, 0, 0.15);\n",
              "      filter: drop-shadow(0px 1px 2px rgba(0, 0, 0, 0.3));\n",
              "      fill: #FFFFFF;\n",
              "    }\n",
              "  </style>\n",
              "\n",
              "      <script>\n",
              "        const buttonEl =\n",
              "          document.querySelector('#df-f522cfc5-15f6-4191-9b83-84341d2821bc button.colab-df-convert');\n",
              "        buttonEl.style.display =\n",
              "          google.colab.kernel.accessAllowed ? 'block' : 'none';\n",
              "\n",
              "        async function convertToInteractive(key) {\n",
              "          const element = document.querySelector('#df-f522cfc5-15f6-4191-9b83-84341d2821bc');\n",
              "          const dataTable =\n",
              "            await google.colab.kernel.invokeFunction('convertToInteractive',\n",
              "                                                     [key], {});\n",
              "          if (!dataTable) return;\n",
              "\n",
              "          const docLinkHtml = 'Like what you see? Visit the ' +\n",
              "            '<a target=\"_blank\" href=https://colab.research.google.com/notebooks/data_table.ipynb>data table notebook</a>'\n",
              "            + ' to learn more about interactive tables.';\n",
              "          element.innerHTML = '';\n",
              "          dataTable['output_type'] = 'display_data';\n",
              "          await google.colab.output.renderOutput(dataTable, element);\n",
              "          const docLink = document.createElement('div');\n",
              "          docLink.innerHTML = docLinkHtml;\n",
              "          element.appendChild(docLink);\n",
              "        }\n",
              "      </script>\n",
              "    </div>\n",
              "  </div>\n",
              "  "
            ],
            "text/plain": [
              "       datadate   tic     adjcp      open      high       low    volume\n",
              "0      20090105  ADRO -0.779477 -0.654285 -0.653290 -0.653731 -0.172582\n",
              "1      20090106  ADRO -0.779477 -0.654285 -0.651880 -0.653731  1.211143\n",
              "2      20090107  ADRO -0.779477 -0.657143 -0.657520 -0.655182 -1.048091\n",
              "3      20090108  ADRO -0.779477 -0.655714 -0.656110 -0.653731 -1.087279\n",
              "4      20090109  ADRO -0.761766 -0.631418 -0.623683 -0.631969  1.411668\n",
              "...         ...   ...       ...       ...       ...       ...       ...\n",
              "88447  20211224  WIKA       NaN       NaN       NaN       NaN       NaN\n",
              "88448  20211227  WIKA       NaN       NaN       NaN       NaN       NaN\n",
              "88449  20211228  WIKA       NaN       NaN       NaN       NaN       NaN\n",
              "88450  20211229  WIKA       NaN       NaN       NaN       NaN       NaN\n",
              "88451  20211230  WIKA       NaN       NaN       NaN       NaN       NaN\n",
              "\n",
              "[88452 rows x 7 columns]"
            ]
          },
          "execution_count": 37,
          "metadata": {},
          "output_type": "execute_result"
        }
      ],
      "source": [
        "PreprocessedJIIStocksDataframe = pd.concat([df, JIIStocksDataframe], axis=1)\n",
        "PreprocessedJIIStocksDataframe"
      ]
    },
    {
      "cell_type": "code",
      "execution_count": 38,
      "metadata": {
        "colab": {
          "base_uri": "https://localhost:8080/",
          "height": 424
        },
        "id": "QCdbYAsf0Imr",
        "outputId": "b7a57e89-2487-4969-b6e6-97472c110439"
      },
      "outputs": [
        {
          "data": {
            "text/html": [
              "\n",
              "  <div id=\"df-b4b2165d-0339-4398-9105-5d9938b6d0a6\">\n",
              "    <div class=\"colab-df-container\">\n",
              "      <div>\n",
              "<style scoped>\n",
              "    .dataframe tbody tr th:only-of-type {\n",
              "        vertical-align: middle;\n",
              "    }\n",
              "\n",
              "    .dataframe tbody tr th {\n",
              "        vertical-align: top;\n",
              "    }\n",
              "\n",
              "    .dataframe thead th {\n",
              "        text-align: right;\n",
              "    }\n",
              "</style>\n",
              "<table border=\"1\" class=\"dataframe\">\n",
              "  <thead>\n",
              "    <tr style=\"text-align: right;\">\n",
              "      <th></th>\n",
              "      <th>datadate</th>\n",
              "      <th>tic</th>\n",
              "      <th>adjcp</th>\n",
              "      <th>open</th>\n",
              "      <th>high</th>\n",
              "      <th>low</th>\n",
              "      <th>volume</th>\n",
              "    </tr>\n",
              "  </thead>\n",
              "  <tbody>\n",
              "    <tr>\n",
              "      <th>0</th>\n",
              "      <td>20090105</td>\n",
              "      <td>ADRO</td>\n",
              "      <td>-0.779477</td>\n",
              "      <td>-0.654285</td>\n",
              "      <td>-0.653290</td>\n",
              "      <td>-0.653731</td>\n",
              "      <td>-0.172582</td>\n",
              "    </tr>\n",
              "    <tr>\n",
              "      <th>1</th>\n",
              "      <td>20090106</td>\n",
              "      <td>ADRO</td>\n",
              "      <td>-0.779477</td>\n",
              "      <td>-0.654285</td>\n",
              "      <td>-0.651880</td>\n",
              "      <td>-0.653731</td>\n",
              "      <td>1.211143</td>\n",
              "    </tr>\n",
              "    <tr>\n",
              "      <th>2</th>\n",
              "      <td>20090107</td>\n",
              "      <td>ADRO</td>\n",
              "      <td>-0.779477</td>\n",
              "      <td>-0.657143</td>\n",
              "      <td>-0.657520</td>\n",
              "      <td>-0.655182</td>\n",
              "      <td>-1.048091</td>\n",
              "    </tr>\n",
              "    <tr>\n",
              "      <th>3</th>\n",
              "      <td>20090108</td>\n",
              "      <td>ADRO</td>\n",
              "      <td>-0.779477</td>\n",
              "      <td>-0.655714</td>\n",
              "      <td>-0.656110</td>\n",
              "      <td>-0.653731</td>\n",
              "      <td>-1.087279</td>\n",
              "    </tr>\n",
              "    <tr>\n",
              "      <th>4</th>\n",
              "      <td>20090109</td>\n",
              "      <td>ADRO</td>\n",
              "      <td>-0.761766</td>\n",
              "      <td>-0.631418</td>\n",
              "      <td>-0.623683</td>\n",
              "      <td>-0.631969</td>\n",
              "      <td>1.411668</td>\n",
              "    </tr>\n",
              "    <tr>\n",
              "      <th>...</th>\n",
              "      <td>...</td>\n",
              "      <td>...</td>\n",
              "      <td>...</td>\n",
              "      <td>...</td>\n",
              "      <td>...</td>\n",
              "      <td>...</td>\n",
              "      <td>...</td>\n",
              "    </tr>\n",
              "    <tr>\n",
              "      <th>82725</th>\n",
              "      <td>20111206</td>\n",
              "      <td>UNVR</td>\n",
              "      <td>-0.614350</td>\n",
              "      <td>-0.577108</td>\n",
              "      <td>-0.575747</td>\n",
              "      <td>-0.574663</td>\n",
              "      <td>0.006303</td>\n",
              "    </tr>\n",
              "    <tr>\n",
              "      <th>82726</th>\n",
              "      <td>20111207</td>\n",
              "      <td>UNVR</td>\n",
              "      <td>-0.603765</td>\n",
              "      <td>-0.574250</td>\n",
              "      <td>-0.568698</td>\n",
              "      <td>-0.571036</td>\n",
              "      <td>0.631138</td>\n",
              "    </tr>\n",
              "    <tr>\n",
              "      <th>82727</th>\n",
              "      <td>20111208</td>\n",
              "      <td>UNVR</td>\n",
              "      <td>-0.602707</td>\n",
              "      <td>-0.566389</td>\n",
              "      <td>-0.567288</td>\n",
              "      <td>-0.566684</td>\n",
              "      <td>0.843214</td>\n",
              "    </tr>\n",
              "    <tr>\n",
              "      <th>82728</th>\n",
              "      <td>20111209</td>\n",
              "      <td>UNVR</td>\n",
              "      <td>-0.602707</td>\n",
              "      <td>-0.567104</td>\n",
              "      <td>-0.569403</td>\n",
              "      <td>-0.567409</td>\n",
              "      <td>-0.462798</td>\n",
              "    </tr>\n",
              "    <tr>\n",
              "      <th>82729</th>\n",
              "      <td>20111212</td>\n",
              "      <td>UNVR</td>\n",
              "      <td>-0.607999</td>\n",
              "      <td>-0.567104</td>\n",
              "      <td>-0.568698</td>\n",
              "      <td>-0.567409</td>\n",
              "      <td>-0.319091</td>\n",
              "    </tr>\n",
              "  </tbody>\n",
              "</table>\n",
              "<p>82730 rows × 7 columns</p>\n",
              "</div>\n",
              "      <button class=\"colab-df-convert\" onclick=\"convertToInteractive('df-b4b2165d-0339-4398-9105-5d9938b6d0a6')\"\n",
              "              title=\"Convert this dataframe to an interactive table.\"\n",
              "              style=\"display:none;\">\n",
              "        \n",
              "  <svg xmlns=\"http://www.w3.org/2000/svg\" height=\"24px\"viewBox=\"0 0 24 24\"\n",
              "       width=\"24px\">\n",
              "    <path d=\"M0 0h24v24H0V0z\" fill=\"none\"/>\n",
              "    <path d=\"M18.56 5.44l.94 2.06.94-2.06 2.06-.94-2.06-.94-.94-2.06-.94 2.06-2.06.94zm-11 1L8.5 8.5l.94-2.06 2.06-.94-2.06-.94L8.5 2.5l-.94 2.06-2.06.94zm10 10l.94 2.06.94-2.06 2.06-.94-2.06-.94-.94-2.06-.94 2.06-2.06.94z\"/><path d=\"M17.41 7.96l-1.37-1.37c-.4-.4-.92-.59-1.43-.59-.52 0-1.04.2-1.43.59L10.3 9.45l-7.72 7.72c-.78.78-.78 2.05 0 2.83L4 21.41c.39.39.9.59 1.41.59.51 0 1.02-.2 1.41-.59l7.78-7.78 2.81-2.81c.8-.78.8-2.07 0-2.86zM5.41 20L4 18.59l7.72-7.72 1.47 1.35L5.41 20z\"/>\n",
              "  </svg>\n",
              "      </button>\n",
              "      \n",
              "  <style>\n",
              "    .colab-df-container {\n",
              "      display:flex;\n",
              "      flex-wrap:wrap;\n",
              "      gap: 12px;\n",
              "    }\n",
              "\n",
              "    .colab-df-convert {\n",
              "      background-color: #E8F0FE;\n",
              "      border: none;\n",
              "      border-radius: 50%;\n",
              "      cursor: pointer;\n",
              "      display: none;\n",
              "      fill: #1967D2;\n",
              "      height: 32px;\n",
              "      padding: 0 0 0 0;\n",
              "      width: 32px;\n",
              "    }\n",
              "\n",
              "    .colab-df-convert:hover {\n",
              "      background-color: #E2EBFA;\n",
              "      box-shadow: 0px 1px 2px rgba(60, 64, 67, 0.3), 0px 1px 3px 1px rgba(60, 64, 67, 0.15);\n",
              "      fill: #174EA6;\n",
              "    }\n",
              "\n",
              "    [theme=dark] .colab-df-convert {\n",
              "      background-color: #3B4455;\n",
              "      fill: #D2E3FC;\n",
              "    }\n",
              "\n",
              "    [theme=dark] .colab-df-convert:hover {\n",
              "      background-color: #434B5C;\n",
              "      box-shadow: 0px 1px 3px 1px rgba(0, 0, 0, 0.15);\n",
              "      filter: drop-shadow(0px 1px 2px rgba(0, 0, 0, 0.3));\n",
              "      fill: #FFFFFF;\n",
              "    }\n",
              "  </style>\n",
              "\n",
              "      <script>\n",
              "        const buttonEl =\n",
              "          document.querySelector('#df-b4b2165d-0339-4398-9105-5d9938b6d0a6 button.colab-df-convert');\n",
              "        buttonEl.style.display =\n",
              "          google.colab.kernel.accessAllowed ? 'block' : 'none';\n",
              "\n",
              "        async function convertToInteractive(key) {\n",
              "          const element = document.querySelector('#df-b4b2165d-0339-4398-9105-5d9938b6d0a6');\n",
              "          const dataTable =\n",
              "            await google.colab.kernel.invokeFunction('convertToInteractive',\n",
              "                                                     [key], {});\n",
              "          if (!dataTable) return;\n",
              "\n",
              "          const docLinkHtml = 'Like what you see? Visit the ' +\n",
              "            '<a target=\"_blank\" href=https://colab.research.google.com/notebooks/data_table.ipynb>data table notebook</a>'\n",
              "            + ' to learn more about interactive tables.';\n",
              "          element.innerHTML = '';\n",
              "          dataTable['output_type'] = 'display_data';\n",
              "          await google.colab.output.renderOutput(dataTable, element);\n",
              "          const docLink = document.createElement('div');\n",
              "          docLink.innerHTML = docLinkHtml;\n",
              "          element.appendChild(docLink);\n",
              "        }\n",
              "      </script>\n",
              "    </div>\n",
              "  </div>\n",
              "  "
            ],
            "text/plain": [
              "       datadate   tic     adjcp      open      high       low    volume\n",
              "0      20090105  ADRO -0.779477 -0.654285 -0.653290 -0.653731 -0.172582\n",
              "1      20090106  ADRO -0.779477 -0.654285 -0.651880 -0.653731  1.211143\n",
              "2      20090107  ADRO -0.779477 -0.657143 -0.657520 -0.655182 -1.048091\n",
              "3      20090108  ADRO -0.779477 -0.655714 -0.656110 -0.653731 -1.087279\n",
              "4      20090109  ADRO -0.761766 -0.631418 -0.623683 -0.631969  1.411668\n",
              "...         ...   ...       ...       ...       ...       ...       ...\n",
              "82725  20111206  UNVR -0.614350 -0.577108 -0.575747 -0.574663  0.006303\n",
              "82726  20111207  UNVR -0.603765 -0.574250 -0.568698 -0.571036  0.631138\n",
              "82727  20111208  UNVR -0.602707 -0.566389 -0.567288 -0.566684  0.843214\n",
              "82728  20111209  UNVR -0.602707 -0.567104 -0.569403 -0.567409 -0.462798\n",
              "82729  20111212  UNVR -0.607999 -0.567104 -0.568698 -0.567409 -0.319091\n",
              "\n",
              "[82730 rows x 7 columns]"
            ]
          },
          "execution_count": 38,
          "metadata": {},
          "output_type": "execute_result"
        }
      ],
      "source": [
        "PreprocessedJIIStocksDataframe.dropna()"
      ]
    },
    {
      "cell_type": "code",
      "execution_count": 39,
      "metadata": {
        "colab": {
          "base_uri": "https://localhost:8080/"
        },
        "id": "m10isg3d0MY8",
        "outputId": "ef7cb8e2-a00d-4c48-e219-3b0452368db0"
      },
      "outputs": [
        {
          "name": "stdout",
          "output_type": "stream",
          "text": [
            "<class 'pandas.core.frame.DataFrame'>\n",
            "RangeIndex: 88452 entries, 0 to 88451\n",
            "Data columns (total 7 columns):\n",
            " #   Column    Non-Null Count  Dtype  \n",
            "---  ------    --------------  -----  \n",
            " 0   datadate  88452 non-null  object \n",
            " 1   tic       88452 non-null  object \n",
            " 2   adjcp     82730 non-null  float64\n",
            " 3   open      82730 non-null  float64\n",
            " 4   high      82730 non-null  float64\n",
            " 5   low       82730 non-null  float64\n",
            " 6   volume    82730 non-null  float64\n",
            "dtypes: float64(5), object(2)\n",
            "memory usage: 4.7+ MB\n"
          ]
        }
      ],
      "source": [
        "PreprocessedJIIStocksDataframe.info()"
      ]
    }
  ],
  "metadata": {
    "accelerator": "GPU",
    "colab": {
      "authorship_tag": "ABX9TyMyAjQcF3wguiF7NOu27eXr",
      "include_colab_link": true,
      "name": "2 Preprocessing.ipynb",
      "provenance": []
    },
    "kernelspec": {
      "display_name": "Python 3",
      "name": "python3"
    },
    "language_info": {
      "name": "python"
    }
  },
  "nbformat": 4,
  "nbformat_minor": 0
}
